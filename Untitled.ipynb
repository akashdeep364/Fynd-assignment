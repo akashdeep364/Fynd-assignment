{
 "cells": [
  {
   "cell_type": "markdown",
   "id": "f6a68251",
   "metadata": {},
   "source": [
    "# Analyze the sales data for the last 6 months for one of our sellers SSIPL. Using this data we want you to provide insights on what the seller should do to increase their business for their brand websites using this set of data.\n"
   ]
  },
  {
   "cell_type": "code",
   "execution_count": null,
   "id": "18d124cb",
   "metadata": {},
   "outputs": [],
   "source": []
  }
 ],
 "metadata": {
  "kernelspec": {
   "display_name": "Python 3",
   "language": "python",
   "name": "python3"
  },
  "language_info": {
   "codemirror_mode": {
    "name": "ipython",
    "version": 3
   },
   "file_extension": ".py",
   "mimetype": "text/x-python",
   "name": "python",
   "nbconvert_exporter": "python",
   "pygments_lexer": "ipython3",
   "version": "3.8.8"
  }
 },
 "nbformat": 4,
 "nbformat_minor": 5
}
